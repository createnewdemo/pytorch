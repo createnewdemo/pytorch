{
  "nbformat": 4,
  "nbformat_minor": 0,
  "metadata": {
    "colab": {
      "name": "MNIST-CNN.ipynb",
      "provenance": [],
      "authorship_tag": "ABX9TyNbFT+pZwtufLc2wOzB53Xd",
      "include_colab_link": true
    },
    "kernelspec": {
      "name": "python3",
      "display_name": "Python 3"
    },
    "language_info": {
      "name": "python"
    },
    "accelerator": "GPU"
  },
  "cells": [
    {
      "cell_type": "markdown",
      "metadata": {
        "id": "view-in-github",
        "colab_type": "text"
      },
      "source": [
        "<a href=\"https://colab.research.google.com/github/createnewdemo/pytorch/blob/main/MNIST_CNN.ipynb\" target=\"_parent\"><img src=\"https://colab.research.google.com/assets/colab-badge.svg\" alt=\"Open In Colab\"/></a>"
      ]
    },
    {
      "cell_type": "code",
      "metadata": {
        "id": "je6YfKRBRfZG",
        "colab": {
          "base_uri": "https://localhost:8080/"
        },
        "outputId": "4c886df7-f32a-4fe7-890c-27d9d284aaf5"
      },
      "source": [
        "# mount Drive to access data files\n",
        "\n",
        "from google.colab import drive\n",
        "drive.mount('./mount')"
      ],
      "execution_count": 2,
      "outputs": [
        {
          "output_type": "stream",
          "name": "stdout",
          "text": [
            "Mounted at ./mount\n"
          ]
        }
      ]
    },
    {
      "cell_type": "code",
      "metadata": {
        "id": "lwyrGW0YR2Ne"
      },
      "source": [
        "# import libraries\n",
        "\n",
        "import torch\n",
        "import torch.nn as nn\n",
        "from torch.utils.data import Dataset\n",
        "\n",
        "import pandas\n",
        "import matplotlib.pyplot as plt"
      ],
      "execution_count": 3,
      "outputs": []
    },
    {
      "cell_type": "code",
      "source": [
        "# modified from https://github.com/pytorch/vision/issues/720\n",
        "\n",
        "class View(nn.Module):\n",
        "    def __init__(self, shape):\n",
        "        super().__init__()\n",
        "        self.shape = shape,\n",
        "\n",
        "    def forward(self, x):\n",
        "        return x.view(*self.shape)"
      ],
      "metadata": {
        "id": "GT4d6K1ENRjW"
      },
      "execution_count": 14,
      "outputs": []
    },
    {
      "cell_type": "code",
      "metadata": {
        "id": "2UdwU416SEeW"
      },
      "source": [
        "# dataset class\n",
        "\n",
        "class MnistDataset(Dataset):\n",
        "    \n",
        "    def __init__(self, csv_file):\n",
        "        self.data_df = pandas.read_csv(csv_file, header=None)\n",
        "        pass\n",
        "    \n",
        "    def __len__(self):\n",
        "        return len(self.data_df)\n",
        "    \n",
        "    def __getitem__(self, index):\n",
        "        # image target (label)\n",
        "        label = self.data_df.iloc[index,0]\n",
        "        target = torch.zeros((10))\n",
        "        target[label] = 1.0\n",
        "        \n",
        "        # image data, normalised from 0-255 to 0-1\n",
        "        image_values = torch.FloatTensor(self.data_df.iloc[index,1:].values) / 255.0\n",
        "        \n",
        "        # return label, image data tensor and target tensor\n",
        "        return label, image_values, target\n",
        "    \n",
        "    def plot_image(self, index):\n",
        "        img = self.data_df.iloc[index,1:].values.reshape(28,28)\n",
        "        plt.title(\"label = \" + str(self.data_df.iloc[index,0]))\n",
        "        plt.imshow(img, interpolation='none', cmap='Blues')\n",
        "        pass\n",
        "    \n",
        "    pass"
      ],
      "execution_count": 4,
      "outputs": []
    },
    {
      "cell_type": "code",
      "metadata": {
        "id": "4HD5_Lu8ShjV"
      },
      "source": [
        "mnist_dataset = MnistDataset('mount/My Drive/Colab Notebooks/mnist_data/mnist_train.csv')"
      ],
      "execution_count": 5,
      "outputs": []
    },
    {
      "cell_type": "code",
      "metadata": {
        "colab": {
          "base_uri": "https://localhost:8080/",
          "height": 281
        },
        "id": "p5d0wFWUSksW",
        "outputId": "3bbb2e68-a2b6-4837-d0b6-90d78461c473"
      },
      "source": [
        "# check data contains images\n",
        "\n",
        "mnist_dataset.plot_image(9)"
      ],
      "execution_count": 6,
      "outputs": [
        {
          "output_type": "display_data",
          "data": {
            "image/png": "[encoded data removed]",
            "text/plain": [
              "<Figure size 432x288 with 1 Axes>"
            ]
          },
          "metadata": {
            "needs_background": "light"
          }
        }
      ]
    },
    {
      "cell_type": "code",
      "metadata": {
        "id": "TEhZGU5RSsvJ"
      },
      "source": [
        "# check Dataset class can be accessed by index, returns label, image values and target tensor\n",
        "\n",
        "mnist_dataset[100]"
      ],
      "execution_count": null,
      "outputs": []
    },
    {
      "cell_type": "code",
      "metadata": {
        "id": "rffGq23fSwzJ"
      },
      "source": [
        "# classifier class\n",
        "\n",
        "class Classifier(nn.Module):\n",
        "    \n",
        "    def __init__(self):\n",
        "        # initialise parent pytorch class\n",
        "        super().__init__()\n",
        "        \n",
        "        # define neural network layers\n",
        "        self.model = nn.Sequential(\n",
        "            #将一个过滤器扩展到10个\n",
        "            nn.Conv2d(1,10,kernel_size=5,stride=2),\n",
        "            nn.LeakyReLU(0.02),\n",
        "\n",
        "            #10个过滤器到10个过滤器\n",
        "            nn.Conv2d(10,10,kernel_size=3,stride=2),\n",
        "            nn.LeakyReLU(0.02),\n",
        "            nn.BatchNorm2d(10),\n",
        "\n",
        "            View(250),\n",
        "            nn.Linear(250,10),\n",
        "            nn.Sigmoid()\n",
        "            \n",
        "\n",
        "        )\n",
        "        \n",
        "        # create loss function\n",
        "        self.loss_function = nn.BCELoss()\n",
        "        #self.loss_function = nn.MSELoss()\n",
        "\n",
        "        # create optimiser, using simple stochastic gradient descent\n",
        "        #self.optimiser = torch.optim.SGD(self.parameters(), lr=0.01)\n",
        "        self.optimiser = torch.optim.Adam(self.parameters())\n",
        "\n",
        "        # counter and accumulator for progress\n",
        "        self.counter = 0\n",
        "        self.progress = []\n",
        "\n",
        "        pass\n",
        "\n",
        "    def forward(self, inputs):\n",
        "        # simply run model\n",
        "        return self.model(inputs)\n",
        "    \n",
        "    \n",
        "    def train(self, inputs, targets):\n",
        "        # calculate the output of the network\n",
        "        outputs = self.forward(inputs)\n",
        "        \n",
        "        # calculate loss\n",
        "        loss = self.loss_function(outputs, targets)\n",
        "\n",
        "        # increase counter and accumulate error every 10\n",
        "        self.counter += 1\n",
        "        if (self.counter % 10 == 0):\n",
        "            self.progress.append(loss.item())\n",
        "            pass\n",
        "        if (self.counter % 10000 == 0):\n",
        "            print(\"counter = \", self.counter)\n",
        "            pass\n",
        "\n",
        "        # zero gradients, perform a backward pass, and update the weights\n",
        "        self.optimiser.zero_grad()\n",
        "        loss.backward()\n",
        "        self.optimiser.step()\n",
        "\n",
        "        pass\n",
        "    \n",
        "    \n",
        "    def plot_progress(self):\n",
        "        df = pandas.DataFrame(self.progress, columns=['loss'])\n",
        "        df.plot(ylim=(0, 1.0), figsize=(16,8), alpha=0.1, marker='.', grid=True, yticks=(0, 0.25, 0.5))\n",
        "        pass\n",
        "    \n",
        "    pass"
      ],
      "execution_count": 13,
      "outputs": []
    },
    {
      "cell_type": "code",
      "metadata": {
        "colab": {
          "base_uri": "https://localhost:8080/"
        },
        "id": "-7bzXSeXSylx",
        "outputId": "0348f4bb-d5c8-42d7-9b9c-31157e95bc3a"
      },
      "source": [
        "%%time \n",
        "# create neural network\n",
        "\n",
        "C = Classifier()\n",
        "\n",
        "# train network on MNIST data set\n",
        "\n",
        "epochs = 3\n",
        "\n",
        "for i in range(epochs):\n",
        "    print('training epoch', i+1, \"of\", epochs)\n",
        "    for label, image_data_tensor, target_tensor in mnist_dataset:\n",
        "        C.train(image_data_tensor.view(1, 1, 28, 28), target_tensor)\n",
        "        pass\n",
        "    pass"
      ],
      "execution_count": 15,
      "outputs": [
        {
          "output_type": "stream",
          "name": "stdout",
          "text": [
            "training epoch 1 of 3\n",
            "counter =  10000\n",
            "counter =  20000\n",
            "counter =  30000\n",
            "counter =  40000\n",
            "counter =  50000\n",
            "counter =  60000\n",
            "training epoch 2 of 3\n",
            "counter =  70000\n",
            "counter =  80000\n",
            "counter =  90000\n",
            "counter =  100000\n",
            "counter =  110000\n",
            "counter =  120000\n",
            "training epoch 3 of 3\n",
            "counter =  130000\n",
            "counter =  140000\n",
            "counter =  150000\n",
            "counter =  160000\n",
            "counter =  170000\n",
            "counter =  180000\n",
            "CPU times: user 5min 56s, sys: 1.07 s, total: 5min 57s\n",
            "Wall time: 5min 57s\n"
          ]
        }
      ]
    },
    {
      "cell_type": "code",
      "metadata": {
        "colab": {
          "base_uri": "https://localhost:8080/"
        },
        "id": "DeWNA0bsS1aq",
        "outputId": "3623490c-e266-4a44-cfac-ce2982132c3c"
      },
      "source": [
        "# test trained neural network on training data\n",
        "# load MNIST test data\n",
        "\n",
        "mnist_test_dataset = MnistDataset('mount/My Drive/Colab Notebooks/mnist_data/mnist_test.csv')\n",
        "score = 0\n",
        "items = 0\n",
        "\n",
        "for label, image_data_tensor, target_tensor in mnist_test_dataset:\n",
        "    answer = C.forward(image_data_tensor.view(1,1,28,28)).detach().numpy()\n",
        "    if (answer.argmax() == label):\n",
        "        score += 1\n",
        "        pass\n",
        "    items += 1\n",
        "    \n",
        "    pass\n",
        "\n",
        "print(score, items, score/items)"
      ],
      "execution_count": 18,
      "outputs": [
        {
          "output_type": "stream",
          "name": "stdout",
          "text": [
            "9800 10000 0.98\n"
          ]
        }
      ]
    },
    {
      "cell_type": "code",
      "metadata": {
        "colab": {
          "base_uri": "https://localhost:8080/"
        },
        "id": "yNzZKP8hTETJ",
        "outputId": "48abdc19-5c35-44c8-efe7-eb1b7488d6e4"
      },
      "source": [
        ""
      ],
      "execution_count": null,
      "outputs": [
        {
          "output_type": "stream",
          "name": "stdout",
          "text": [
            "tensor(1.8750, grad_fn=<MulBackward0>)\n"
          ]
        }
      ]
    },
    {
      "cell_type": "code",
      "metadata": {
        "id": "eBBtiAoETSil"
      },
      "source": [
        ""
      ],
      "execution_count": null,
      "outputs": []
    },
    {
      "cell_type": "code",
      "metadata": {
        "colab": {
          "base_uri": "https://localhost:8080/"
        },
        "id": "3xG_EIODUN-O",
        "outputId": "96efede5-993e-4886-be63-e4da04b36dab"
      },
      "source": [
        ""
      ],
      "execution_count": null,
      "outputs": [
        {
          "output_type": "stream",
          "name": "stdout",
          "text": [
            "tensor(1.8750, grad_fn=<MulBackward0>)\n"
          ]
        }
      ]
    },
    {
      "cell_type": "code",
      "metadata": {
        "colab": {
          "base_uri": "https://localhost:8080/"
        },
        "id": "leoCyZQuUanR",
        "outputId": "2a923678-7585-4ce3-ef8a-b5996fb6b09b"
      },
      "source": [
        ""
      ],
      "execution_count": null,
      "outputs": [
        {
          "output_type": "execute_result",
          "data": {
            "text/plain": [
              "tensor(5.7500)"
            ]
          },
          "metadata": {},
          "execution_count": 16
        }
      ]
    },
    {
      "cell_type": "code",
      "metadata": {
        "id": "xqwAXAQ_UiGd"
      },
      "source": [
        ""
      ],
      "execution_count": null,
      "outputs": []
    }
  ]
}