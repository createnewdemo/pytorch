{
  "nbformat": 4,
  "nbformat_minor": 0,
  "metadata": {
    "colab": {
      "name": "Untitled0.ipynb",
      "provenance": [],
      "authorship_tag": "ABX9TyOs6uo8EcnVBg1rzMo2mNKx",
      "include_colab_link": true
    },
    "kernelspec": {
      "name": "python3",
      "display_name": "Python 3"
    },
    "language_info": {
      "name": "python"
    },
    "accelerator": "GPU"
  },
  "cells": [
    {
      "cell_type": "markdown",
      "metadata": {
        "id": "view-in-github",
        "colab_type": "text"
      },
      "source": [
        "<a href=\"https://colab.research.google.com/github/createnewdemo/pytorch/blob/main/demo1.ipynb\" target=\"_parent\"><img src=\"https://colab.research.google.com/assets/colab-badge.svg\" alt=\"Open In Colab\"/></a>"
      ]
    },
    {
      "cell_type": "code",
      "metadata": {
        "id": "je6YfKRBRfZG"
      },
      "source": [
        "import torch"
      ],
      "execution_count": null,
      "outputs": []
    },
    {
      "cell_type": "code",
      "metadata": {
        "colab": {
          "base_uri": "https://localhost:8080/"
        },
        "id": "lwyrGW0YR2Ne",
        "outputId": "23032100-9e1f-45e2-d96f-e2350557d587"
      },
      "source": [
        "x = 3.5\n",
        "y = x*x +2\n",
        "print(x,y)"
      ],
      "execution_count": null,
      "outputs": [
        {
          "output_type": "stream",
          "name": "stdout",
          "text": [
            "3.5 14.25\n"
          ]
        }
      ]
    },
    {
      "cell_type": "code",
      "metadata": {
        "id": "2UdwU416SEeW"
      },
      "source": [
        "x = torch.tensor(3.5)"
      ],
      "execution_count": null,
      "outputs": []
    },
    {
      "cell_type": "code",
      "metadata": {
        "colab": {
          "base_uri": "https://localhost:8080/"
        },
        "id": "4HD5_Lu8ShjV",
        "outputId": "6cae0f03-8980-48d4-b244-e71d05d7357c"
      },
      "source": [
        "help(torch.tensor)"
      ],
      "execution_count": null,
      "outputs": [
        {
          "output_type": "stream",
          "name": "stdout",
          "text": [
            "Help on built-in function tensor:\n",
            "\n",
            "tensor(...)\n",
            "    tensor(data, *, dtype=None, device=None, requires_grad=False, pin_memory=False) -> Tensor\n",
            "    \n",
            "    Constructs a tensor with :attr:`data`.\n",
            "    \n",
            "    .. warning::\n",
            "    \n",
            "        :func:`torch.tensor` always copies :attr:`data`. If you have a Tensor\n",
            "        ``data`` and want to avoid a copy, use :func:`torch.Tensor.requires_grad_`\n",
            "        or :func:`torch.Tensor.detach`.\n",
            "        If you have a NumPy ``ndarray`` and want to avoid a copy, use\n",
            "        :func:`torch.as_tensor`.\n",
            "    \n",
            "    .. warning::\n",
            "    \n",
            "        When data is a tensor `x`, :func:`torch.tensor` reads out 'the data' from whatever it is passed,\n",
            "        and constructs a leaf variable. Therefore ``torch.tensor(x)`` is equivalent to ``x.clone().detach()``\n",
            "        and ``torch.tensor(x, requires_grad=True)`` is equivalent to ``x.clone().detach().requires_grad_(True)``.\n",
            "        The equivalents using ``clone()`` and ``detach()`` are recommended.\n",
            "    \n",
            "    Args:\n",
            "        data (array_like): Initial data for the tensor. Can be a list, tuple,\n",
            "            NumPy ``ndarray``, scalar, and other types.\n",
            "    \n",
            "    Keyword args:\n",
            "        dtype (:class:`torch.dtype`, optional): the desired data type of returned tensor.\n",
            "            Default: if ``None``, infers data type from :attr:`data`.\n",
            "        device (:class:`torch.device`, optional): the desired device of returned tensor.\n",
            "            Default: if ``None``, uses the current device for the default tensor type\n",
            "            (see :func:`torch.set_default_tensor_type`). :attr:`device` will be the CPU\n",
            "            for CPU tensor types and the current CUDA device for CUDA tensor types.\n",
            "        requires_grad (bool, optional): If autograd should record operations on the\n",
            "            returned tensor. Default: ``False``.\n",
            "        pin_memory (bool, optional): If set, returned tensor would be allocated in\n",
            "            the pinned memory. Works only for CPU tensors. Default: ``False``.\n",
            "    \n",
            "    \n",
            "    Example::\n",
            "    \n",
            "        >>> torch.tensor([[0.1, 1.2], [2.2, 3.1], [4.9, 5.2]])\n",
            "        tensor([[ 0.1000,  1.2000],\n",
            "                [ 2.2000,  3.1000],\n",
            "                [ 4.9000,  5.2000]])\n",
            "    \n",
            "        >>> torch.tensor([0, 1])  # Type inference on data\n",
            "        tensor([ 0,  1])\n",
            "    \n",
            "        >>> torch.tensor([[0.11111, 0.222222, 0.3333333]],\n",
            "        ...              dtype=torch.float64,\n",
            "        ...              device=torch.device('cuda:0'))  # creates a torch.cuda.DoubleTensor\n",
            "        tensor([[ 0.1111,  0.2222,  0.3333]], dtype=torch.float64, device='cuda:0')\n",
            "    \n",
            "        >>> torch.tensor(3.14159)  # Create a scalar (zero-dimensional tensor)\n",
            "        tensor(3.1416)\n",
            "    \n",
            "        >>> torch.tensor([])  # Create an empty tensor (of size (0,))\n",
            "        tensor([])\n",
            "\n"
          ]
        }
      ]
    },
    {
      "cell_type": "code",
      "metadata": {
        "colab": {
          "base_uri": "https://localhost:8080/"
        },
        "id": "p5d0wFWUSksW",
        "outputId": "a5482304-5b41-4184-d186-925a2ab1df68"
      },
      "source": [
        "print(x)"
      ],
      "execution_count": null,
      "outputs": [
        {
          "output_type": "stream",
          "name": "stdout",
          "text": [
            "tensor(3.5000)\n"
          ]
        }
      ]
    },
    {
      "cell_type": "code",
      "metadata": {
        "id": "TEhZGU5RSsvJ"
      },
      "source": [
        "y = x + 3"
      ],
      "execution_count": null,
      "outputs": []
    },
    {
      "cell_type": "code",
      "metadata": {
        "colab": {
          "base_uri": "https://localhost:8080/"
        },
        "id": "rffGq23fSwzJ",
        "outputId": "0ddc49d5-432e-484c-8dd6-19ce49cd1bb2"
      },
      "source": [
        "print(y)"
      ],
      "execution_count": null,
      "outputs": [
        {
          "output_type": "stream",
          "name": "stdout",
          "text": [
            "tensor(6.5000)\n"
          ]
        }
      ]
    },
    {
      "cell_type": "code",
      "metadata": {
        "colab": {
          "base_uri": "https://localhost:8080/"
        },
        "id": "-7bzXSeXSylx",
        "outputId": "7ea20e84-8868-4922-ef6a-52ccfa17bbb7"
      },
      "source": [
        "type(y)"
      ],
      "execution_count": null,
      "outputs": [
        {
          "output_type": "execute_result",
          "data": {
            "text/plain": [
              "torch.Tensor"
            ]
          },
          "metadata": {},
          "execution_count": 9
        }
      ]
    },
    {
      "cell_type": "code",
      "metadata": {
        "colab": {
          "base_uri": "https://localhost:8080/"
        },
        "id": "DeWNA0bsS1aq",
        "outputId": "29b7d6b2-3703-4217-82f1-91fa729d15fb"
      },
      "source": [
        "x = torch.tensor(3.5,requires_grad=True)\n",
        "print(x)"
      ],
      "execution_count": null,
      "outputs": [
        {
          "output_type": "stream",
          "name": "stdout",
          "text": [
            "tensor(3.5000, requires_grad=True)\n"
          ]
        }
      ]
    },
    {
      "cell_type": "code",
      "metadata": {
        "colab": {
          "base_uri": "https://localhost:8080/"
        },
        "id": "yNzZKP8hTETJ",
        "outputId": "48abdc19-5c35-44c8-efe7-eb1b7488d6e4"
      },
      "source": [
        "y = (x-1) * (x-2) * (x-3)\n",
        "print(y)"
      ],
      "execution_count": null,
      "outputs": [
        {
          "output_type": "stream",
          "name": "stdout",
          "text": [
            "tensor(1.8750, grad_fn=<MulBackward0>)\n"
          ]
        }
      ]
    },
    {
      "cell_type": "code",
      "metadata": {
        "id": "eBBtiAoETSil"
      },
      "source": [
        "y.backward()"
      ],
      "execution_count": null,
      "outputs": []
    },
    {
      "cell_type": "code",
      "metadata": {
        "colab": {
          "base_uri": "https://localhost:8080/"
        },
        "id": "3xG_EIODUN-O",
        "outputId": "96efede5-993e-4886-be63-e4da04b36dab"
      },
      "source": [
        "print(y)"
      ],
      "execution_count": null,
      "outputs": [
        {
          "output_type": "stream",
          "name": "stdout",
          "text": [
            "tensor(1.8750, grad_fn=<MulBackward0>)\n"
          ]
        }
      ]
    },
    {
      "cell_type": "code",
      "metadata": {
        "colab": {
          "base_uri": "https://localhost:8080/"
        },
        "id": "leoCyZQuUanR",
        "outputId": "2a923678-7585-4ce3-ef8a-b5996fb6b09b"
      },
      "source": [
        "x.grad"
      ],
      "execution_count": null,
      "outputs": [
        {
          "output_type": "execute_result",
          "data": {
            "text/plain": [
              "tensor(5.7500)"
            ]
          },
          "metadata": {},
          "execution_count": 16
        }
      ]
    },
    {
      "cell_type": "code",
      "metadata": {
        "id": "xqwAXAQ_UiGd"
      },
      "source": [
        ""
      ],
      "execution_count": null,
      "outputs": []
    }
  ]
}