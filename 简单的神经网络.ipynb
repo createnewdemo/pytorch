{
  "nbformat": 4,
  "nbformat_minor": 0,
  "metadata": {
    "colab": {
      "name": "简单的神经网络.ipynb",
      "provenance": [],
      "collapsed_sections": [],
      "authorship_tag": "ABX9TyM6Ljfd2V1U+FTP1HYBO701",
      "include_colab_link": true
    },
    "kernelspec": {
      "name": "python3",
      "display_name": "Python 3"
    },
    "language_info": {
      "name": "python"
    },
    "accelerator": "GPU"
  },
  "cells": [
    {
      "cell_type": "markdown",
      "metadata": {
        "id": "view-in-github",
        "colab_type": "text"
      },
      "source": [
        "<a href=\"https://colab.research.google.com/github/createnewdemo/pytorch/blob/main/%E7%AE%80%E5%8D%95%E7%9A%84%E7%A5%9E%E7%BB%8F%E7%BD%91%E7%BB%9C.ipynb\" target=\"_parent\"><img src=\"https://colab.research.google.com/assets/colab-badge.svg\" alt=\"Open In Colab\"/></a>"
      ]
    },
    {
      "cell_type": "code",
      "metadata": {
        "id": "XZTXm0hjfOvU"
      },
      "source": [
        "#导入库\n",
        "import  torch\n",
        "import torch.nn as nn"
      ],
      "execution_count": 1,
      "outputs": []
    },
    {
      "cell_type": "code",
      "metadata": {
        "id": "n1LHyClKfrkc"
      },
      "source": [
        "#开始构建神经网络\n",
        "class Classifier(nn.Module):\n",
        "\n",
        "\n",
        "  def __init__(self):\n",
        "    #初始化Pytorch父类\n",
        "    super().__init__()\n",
        "\n",
        "    #PyTorch.nn模块会为我们设置分类器\n",
        "\n",
        "    #定义神经网网络 -----------------------模块加正向的信息传导  还要定义如何计算误差以及用误差更新网络的可学习参数\n",
        "    self.model = nn.Sequential(\n",
        "        nn.Linear(784,200),             #是从784个节点到200个节点的全连接映射   这个模块包含节点之间连接的权重  在训练时会被更新\n",
        "        nn.Sigmoid(),              # 将S型逻辑激活函数应用于前一个模块的输出  也就是本例中200个节点的输出\n",
        "        nn.Linear(200,10),   #将200个节点映射到10个节点的全连接映射   它包含中间隐藏层与输出层10个节点之间所有连接的权重\n",
        "        nn.Sigmoid()   # 再将S型逻辑激活函数应用于10个节点的输出  其结果就是网络的最终输出\n",
        "    )\n",
        "\n",
        "    #创建损失函数\n",
        "    self.loss_function = nn.MSELoss\n",
        "\n",
        "    #创建优化器，使用简单的梯度下降------随机梯度下降\n",
        "    # 把所有可学习参数都传递给SGD优化器  这些参数可以通过self.parameters() 访问\n",
        "    self.optimiser = torch.optim.SGD(self.parameters(),lr=0.01)\n",
        "    pass\n",
        "\n",
        "  #PyTorch 假定通过一个forward()方法 向网络传递信息\n",
        "  def forward(self,input):\n",
        "    #直接运行模型\n",
        "    return self.model(input)\n",
        "\n",
        "  def train(self,input,targets):\n",
        "    #计算网络的输出值\n",
        "    outputs = self.forward(input)\n",
        "\n",
        "    #计算损失值\n",
        "    loss = self.loss_function(outputs,targets)\n",
        "\n",
        "    #梯度归0  反向传播  并更新权重\n",
        "    self.optimiser.zero_grad()\n",
        "    loss.backward()\n",
        "    self.optimise.step()\n",
        "    \n",
        "    #记录训练进展的计数器和列表\n",
        "\n",
        "    self.counter = 0\n",
        "    self.progress = []\n",
        "\n",
        "    #每隔10个训练样本增加一次计数器的值   并将损失值添加进列表的末尾\n",
        "    self.counter += 1\n",
        "\n",
        "    if (self.counter % 10 == 0):\n",
        "      self.progress.append(loss.item())  # loss.item()   方便展开一个单值张量  获取里面的数字\n",
        "      pass\n",
        "    \n",
        "    if (self.counter % 10000 == 0):\n",
        "      print(\"counter=\",self.counter)\n",
        "      pass\n",
        "\n",
        "    #损失值绘图\n",
        "  def plot_progress(self):\n",
        "    df = pandas.DataFrame(self.progress,columns=['loss'])\n",
        "    df.plot(ylim=(0,1.0),figsize=(16,8),alpha=0.1,marker='.')\n",
        "    pass\n",
        "\n",
        "\n",
        "from torch.utils.data import Dataset\n",
        "\n",
        "class MnistDataset(Dataset):\n",
        "  \n",
        "  def __init__(self,csv_file):\n",
        "\n",
        "  \n",
        "\n",
        "\n",
        "\n",
        "\n",
        "\n",
        "\n"
      ],
      "execution_count": null,
      "outputs": []
    }
  ]
}