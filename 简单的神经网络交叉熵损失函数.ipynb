{
  "nbformat": 4,
  "nbformat_minor": 0,
  "metadata": {
    "colab": {
      "name": "简单的神经网络交叉熵损失函数.ipynb",
      "provenance": [],
      "collapsed_sections": [],
      "authorship_tag": "ABX9TyMIMLH0VqvTeUMtskPO+sxu",
      "include_colab_link": true
    },
    "kernelspec": {
      "name": "python3",
      "display_name": "Python 3"
    },
    "language_info": {
      "name": "python"
    }
  },
  "cells": [
    {
      "cell_type": "markdown",
      "metadata": {
        "id": "view-in-github",
        "colab_type": "text"
      },
      "source": [
        "<a href=\"https://colab.research.google.com/github/createnewdemo/pytorch/blob/main/%E7%AE%80%E5%8D%95%E7%9A%84%E7%A5%9E%E7%BB%8F%E7%BD%91%E7%BB%9C%E4%BA%A4%E5%8F%89%E7%86%B5%E6%8D%9F%E5%A4%B1%E5%87%BD%E6%95%B0.ipynb\" target=\"_parent\"><img src=\"https://colab.research.google.com/assets/colab-badge.svg\" alt=\"Open In Colab\"/></a>"
      ]
    },
    {
      "cell_type": "code",
      "metadata": {
        "id": "XZTXm0hjfOvU"
      },
      "source": [
        "#导入库\n",
        "import  torch\n",
        "import torch.nn as nn\n",
        "import matplotlib.pyplot as plt\n",
        "import pandas\n",
        "from torch.utils.data import Dataset"
      ],
      "execution_count": 1,
      "outputs": []
    },
    {
      "cell_type": "code",
      "metadata": {
        "id": "n1LHyClKfrkc"
      },
      "source": [
        "#开始构建神经网络\n",
        "class Classifier(nn.Module):\n",
        "\n",
        "\n",
        "  def __init__(self):\n",
        "    #初始化Pytorch父类\n",
        "    super().__init__()\n",
        "    #记录训练进展的计数器和列表\n",
        "\n",
        "    self.counter = 0\n",
        "    self.progress = []\n",
        "    #PyTorch.nn模块会为我们设置分类器\n",
        "\n",
        "    #定义神经网网络 -----------------------模块加正向的信息传导  还要定义如何计算误差以及用误差更新网络的可学习参数\n",
        "    self.model = nn.Sequential(\n",
        "        nn.Linear(784,200),             #是从784个节点到200个节点的全连接映射   这个模块包含节点之间连接的权重  在训练时会被更新\n",
        "        #nn.Sigmoid(),              # 将S型逻辑激活函数应用于前一个模块的输出  也就是本例中200个节点的输出\n",
        "        nn.LeakyReLU(0.02), # 带泄露线性整流函数  Leaky ReLU   0.02是函数左半边的梯度\n",
        "\n",
        "        nn.LayerNorm(200),\n",
        "\n",
        "        nn.Linear(200,10), #将200个节点映射到10个节点的全连接映射   它包含中间隐藏层与输出层10个节点之间所有连接的权重\n",
        "        #nn.Sigmoid()   # 再将S型逻辑激活函数应用于10个节点的输出  其结果就是网络的最终输出\n",
        "        nn.LeakyReLU(0.02)# 带泄露线性整流函数  Leaky ReLU 0.02是函数左半边的梯度\n",
        "    )\n",
        "\n",
        "    #创建损失函数\n",
        "    #self.loss_function = nn.BCELoss()\n",
        "    #创建损失函数\n",
        "    self.loss_function = nn.MSELoss()\n",
        "    #创建优化器，使用简单的梯度下降------随机梯度下降\n",
        "    # 把所有可学习参数都传递给SGD优化器  这些参数可以通过self.parameters() 访问\n",
        "    #self.optimiser = torch.optim.Adam(self.parameters(),lr=0.01)\n",
        "    # 把所有可学习参数都传递给SGD优化器  这些参数可以通过self.parameters() 访问\n",
        "    self.optimiser = torch.optim.SGD(self.parameters(),lr=0.01)\n",
        "    pass\n",
        "\n",
        "  #PyTorch 假定通过一个forward()方法 向网络传递信息\n",
        "  def forward(self,inputs):\n",
        "    #直接运行模型\n",
        "    return self.model(inputs)\n",
        "\n",
        "  def train(self,inputs,targets):\n",
        "    #计算网络的输出值\n",
        "    outputs = self.forward(inputs)\n",
        "\n",
        "    #计算损失值\n",
        "    loss = self.loss_function(outputs,targets)\n",
        "\n",
        "\n",
        "    \n",
        "\n",
        "\n",
        "    #每隔10个训练样本增加一次计数器的值   并将损失值添加进列表的末尾\n",
        "    self.counter += 1\n",
        "\n",
        "    if (self.counter % 10 == 0):\n",
        "      self.progress.append(loss.item())  # loss.item()   方便展开一个单值张量  获取里面的数字\n",
        "      pass\n",
        "    \n",
        "    if (self.counter % 10000 == 0):\n",
        "      print(\"counter=\",self.counter)\n",
        "      pass\n",
        "    #梯度归0  反向传播  并更新权重\n",
        "    self.optimiser.zero_grad()\n",
        "    loss.backward()\n",
        "    self.optimiser.step()\n",
        "    pass\n",
        "\n",
        "    #损失值绘图\n",
        "  def plot_progress(self):\n",
        "    df = pandas.DataFrame(self.progress,columns=['loss'])\n",
        "    df.plot(ylim=(0, 1.0), figsize=(16,8), alpha=0.1, marker='.', grid=True, yticks=(0, 0.25, 0.5))\n",
        "    pass\n",
        "\n",
        "\n",
        "\n",
        "\n",
        "class MnistDataset(Dataset):\n",
        "  \n",
        "  def __init__(self,csv_file):\n",
        "\n",
        "    self.data_df = pandas.read_csv(csv_file,header=None)\n",
        "    pass\n",
        "  \n",
        "  def __len__(self):\n",
        "    return len(self.data_df)\n",
        "  \n",
        "  def __getitem__(self,index):\n",
        "    #目标图像\n",
        "    label = self.data_df.iloc[index,0]\n",
        "    target = torch.zeros((10))\n",
        "    target[label] = 1.0 #one-hot 编码\n",
        "\n",
        "\n",
        "    #图像数据  取值是0-255  标准化0-1\n",
        "    image_values = torch.FloatTensor(self.data_df.iloc[index,1:].values) / 255.0\n",
        "\n",
        "    # 返回标签\n",
        "\n",
        "    return label,image_values,target\n",
        "\n",
        "  def plot_image(self, index):\n",
        "      arr = self.data_df.iloc[index,1:].values.reshape(28,28)\n",
        "      plt.title(\"label = \" + str(self.data_df.iloc[index,0]))\n",
        "      plt.imshow(arr,interpolation='none',cmap='Blues')\n",
        "      pass\n",
        "\n",
        "  pass\n",
        "\n",
        "  \n",
        "\n",
        "\n",
        "\n",
        "\n",
        "\n",
        "\n"
      ],
      "execution_count": 27,
      "outputs": []
    },
    {
      "cell_type": "code",
      "metadata": {
        "colab": {
          "base_uri": "https://localhost:8080/"
        },
        "id": "teclmCAHscOC",
        "outputId": "af1412dc-ce8a-49c4-e2e7-6bee4db97481"
      },
      "source": [
        "from google.colab import drive\n",
        "drive.mount('./mount')"
      ],
      "execution_count": 3,
      "outputs": [
        {
          "output_type": "stream",
          "name": "stdout",
          "text": [
            "Mounted at ./mount\n"
          ]
        }
      ]
    },
    {
      "cell_type": "code",
      "metadata": {
        "id": "4mHra4P3s1OB"
      },
      "source": [
        "mnist_dataset = MnistDataset('mount/My Drive/Colab Notebooks/mnist_data/mnist_train.csv')"
      ],
      "execution_count": 16,
      "outputs": []
    },
    {
      "cell_type": "code",
      "metadata": {
        "colab": {
          "base_uri": "https://localhost:8080/",
          "height": 281
        },
        "id": "2lMN4hEXtDo2",
        "outputId": "9c48bf08-15aa-449c-d369-1de1b474d966"
      },
      "source": [
        "mnist_dataset.plot_image(9)"
      ],
      "execution_count": null,
      "outputs": [
        {
          "output_type": "display_data",
          "data": {
            "image/png": "[encoded data removed]",
            "text/plain": [
              "<Figure size 432x288 with 1 Axes>"
            ]
          },
          "metadata": {
            "needs_background": "light"
          }
        }
      ]
    },
    {
      "cell_type": "code",
      "metadata": {
        "id": "ga0siXHwtKfl"
      },
      "source": [
        "mnist_dataset[100]"
      ],
      "execution_count": null,
      "outputs": []
    },
    {
      "cell_type": "code",
      "metadata": {
        "colab": {
          "base_uri": "https://localhost:8080/"
        },
        "id": "7KxOkvVqtH9k",
        "outputId": "2ae93823-db55-4d0d-b6c0-caa484c0ad20"
      },
      "source": [
        "%%time\n",
        "#创建神经网络\n",
        "C = Classifier()\n",
        "epochs = 3\n",
        "#在MNIST数据集中训练神经网络\n",
        "for i in range(epochs):\n",
        "  print(\"training epoch\",i+1,\"of\",epochs)\n",
        "  for label, image_data_tensor,target_tensor in mnist_dataset:\n",
        "    C.train(image_data_tensor,target_tensor)\n",
        "    pass\n",
        "  pass"
      ],
      "execution_count": 28,
      "outputs": [
        {
          "output_type": "stream",
          "name": "stdout",
          "text": [
            "training epoch 1 of 3\n",
            "counter= 10000\n",
            "counter= 20000\n",
            "counter= 30000\n",
            "counter= 40000\n",
            "counter= 50000\n",
            "counter= 60000\n",
            "training epoch 2 of 3\n",
            "counter= 70000\n",
            "counter= 80000\n",
            "counter= 90000\n",
            "counter= 100000\n",
            "counter= 110000\n",
            "counter= 120000\n",
            "training epoch 3 of 3\n",
            "counter= 130000\n",
            "counter= 140000\n",
            "counter= 150000\n",
            "counter= 160000\n",
            "counter= 170000\n",
            "counter= 180000\n",
            "CPU times: user 3min 57s, sys: 2.62 s, total: 3min 59s\n",
            "Wall time: 3min 59s\n"
          ]
        }
      ]
    },
    {
      "cell_type": "code",
      "metadata": {
        "colab": {
          "base_uri": "https://localhost:8080/",
          "height": 483
        },
        "id": "FDjAGpybvEl_",
        "outputId": "72e39cba-bd85-4f3e-ec87-978bf6844561"
      },
      "source": [
        "# 绘制分类器损失值\n",
        "C.plot_progress()"
      ],
      "execution_count": 29,
      "outputs": [
        {
          "output_type": "display_data",
          "data": {
            "image/png": "[encoded data removed]",
            "text/plain": [
              "<Figure size 1152x576 with 1 Axes>"
            ]
          },
          "metadata": {
            "needs_background": "light"
          }
        }
      ]
    },
    {
      "cell_type": "code",
      "metadata": {
        "colab": {
          "base_uri": "https://localhost:8080/"
        },
        "id": "yoBGpnfp6Cum",
        "outputId": "0eb4e0d3-454d-48eb-ae09-273f030a4cad"
      },
      "source": [
        "!/opt/bin/nvidia-smi"
      ],
      "execution_count": null,
      "outputs": [
        {
          "output_type": "stream",
          "name": "stdout",
          "text": [
            "Mon Dec  6 13:45:19 2021       \n",
            "+-----------------------------------------------------------------------------+\n",
            "| NVIDIA-SMI 460.32.03    Driver Version: 460.32.03    CUDA Version: 11.2     |\n",
            "|-------------------------------+----------------------+----------------------+\n",
            "| GPU  Name        Persistence-M| Bus-Id        Disp.A | Volatile Uncorr. ECC |\n",
            "| Fan  Temp  Perf  Pwr:Usage/Cap|         Memory-Usage | GPU-Util  Compute M. |\n",
            "|                               |                      |               MIG M. |\n",
            "|===============================+======================+======================|\n",
            "|   0  Tesla K80           Off  | 00000000:00:04.0 Off |                    0 |\n",
            "| N/A   50C    P8    32W / 149W |      3MiB / 11441MiB |      0%      Default |\n",
            "|                               |                      |                  N/A |\n",
            "+-------------------------------+----------------------+----------------------+\n",
            "                                                                               \n",
            "+-----------------------------------------------------------------------------+\n",
            "| Processes:                                                                  |\n",
            "|  GPU   GI   CI        PID   Type   Process name                  GPU Memory |\n",
            "|        ID   ID                                                   Usage      |\n",
            "|=============================================================================|\n",
            "|  No running processes found                                                 |\n",
            "+-----------------------------------------------------------------------------+\n"
          ]
        }
      ]
    },
    {
      "cell_type": "code",
      "metadata": {
        "id": "HWg4DYhO7ZsS"
      },
      "source": [
        "mnist_test_dataset = MnistDataset('mount/My Drive/Colab Notebooks/mnist_data/mnist_test.csv')"
      ],
      "execution_count": 21,
      "outputs": []
    },
    {
      "cell_type": "code",
      "metadata": {
        "colab": {
          "base_uri": "https://localhost:8080/",
          "height": 281
        },
        "id": "JPqF0Jm7pO89",
        "outputId": "8779d9cb-4029-4663-e276-9d19965cc948"
      },
      "source": [
        "#挑选一副图像\n",
        "record = 19\n",
        "\n",
        "#绘制图像和标签\n",
        "mnist_test_dataset.plot_image(record)"
      ],
      "execution_count": 8,
      "outputs": [
        {
          "output_type": "display_data",
          "data": {
            "image/png": "[encoded data removed]",
            "text/plain": [
              "<Figure size 432x288 with 1 Axes>"
            ]
          },
          "metadata": {
            "needs_background": "light"
          }
        }
      ]
    },
    {
      "cell_type": "code",
      "metadata": {
        "id": "PXOmbgbLpflR"
      },
      "source": [
        "image_data = mnist_test_dataset[record][1]"
      ],
      "execution_count": 9,
      "outputs": []
    },
    {
      "cell_type": "code",
      "metadata": {
        "colab": {
          "base_uri": "https://localhost:8080/"
        },
        "id": "35NjNB2Sp-xN",
        "outputId": "5eea0601-8231-4905-a77a-fc3fc89d52d7"
      },
      "source": [
        "type(mnist_test_dataset)"
      ],
      "execution_count": null,
      "outputs": [
        {
          "output_type": "execute_result",
          "data": {
            "text/plain": [
              "__main__.MnistDataset"
            ]
          },
          "metadata": {},
          "execution_count": 14
        }
      ]
    },
    {
      "cell_type": "code",
      "metadata": {
        "id": "mt5WE-AUqEHk"
      },
      "source": [
        "#调用训练后的神经网络\n",
        "out_put = C.forward(image_data)"
      ],
      "execution_count": 10,
      "outputs": []
    },
    {
      "cell_type": "code",
      "metadata": {
        "colab": {
          "base_uri": "https://localhost:8080/",
          "height": 284
        },
        "id": "Z1R5GlNQrD99",
        "outputId": "6fd21a6a-326a-4627-e849-667ddd5f8bc9"
      },
      "source": [
        "#绘制输出张量 输出被转换成一个简单的numpy数组再被包装成一个DataFrame以便绘制柱形图\n",
        "pandas.DataFrame(out_put.detach().numpy()).plot(kind='bar',legend=False,ylim=(0,1))"
      ],
      "execution_count": 11,
      "outputs": [
        {
          "output_type": "execute_result",
          "data": {
            "text/plain": [
              "<matplotlib.axes._subplots.AxesSubplot at 0x7fc0eb93e950>"
            ]
          },
          "metadata": {},
          "execution_count": 11
        },
        {
          "output_type": "display_data",
          "data": {
            "image/png": "[encoded data removed]",
            "text/plain": [
              "<Figure size 432x288 with 1 Axes>"
            ]
          },
          "metadata": {
            "needs_background": "light"
          }
        }
      ]
    },
    {
      "cell_type": "code",
      "metadata": {
        "colab": {
          "base_uri": "https://localhost:8080/",
          "height": 281
        },
        "id": "u1_WIBHFrZnB",
        "outputId": "bb4863bd-3600-41f4-fc2e-4bfaa13f474d"
      },
      "source": [
        "#挑选一副图像\n",
        "record = 33\n",
        "\n",
        "#绘制图像和标签\n",
        "mnist_test_dataset.plot_image(record)"
      ],
      "execution_count": 12,
      "outputs": [
        {
          "output_type": "display_data",
          "data": {
            "image/png": "[encoded data removed]",
            "text/plain": [
              "<Figure size 432x288 with 1 Axes>"
            ]
          },
          "metadata": {
            "needs_background": "light"
          }
        }
      ]
    },
    {
      "cell_type": "code",
      "metadata": {
        "colab": {
          "base_uri": "https://localhost:8080/",
          "height": 284
        },
        "id": "jXCHxqcht1jM",
        "outputId": "d1426ecd-1685-4262-f158-3cc76fd86d18"
      },
      "source": [
        "image_data1 = mnist_test_dataset[record][1]\n",
        "output = C.forward(image_data1)\n",
        "\n",
        "pandas.DataFrame(output.detach().numpy()).plot(kind='bar',legend=False,ylim=(0,1))"
      ],
      "execution_count": 13,
      "outputs": [
        {
          "output_type": "execute_result",
          "data": {
            "text/plain": [
              "<matplotlib.axes._subplots.AxesSubplot at 0x7fc0ebb08390>"
            ]
          },
          "metadata": {},
          "execution_count": 13
        },
        {
          "output_type": "display_data",
          "data": {
            "image/png": "[encoded data removed]",
            "text/plain": [
              "<Figure size 432x288 with 1 Axes>"
            ]
          },
          "metadata": {
            "needs_background": "light"
          }
        }
      ]
    },
    {
      "cell_type": "code",
      "metadata": {
        "colab": {
          "base_uri": "https://localhost:8080/"
        },
        "id": "YcvZklNIuoUP",
        "outputId": "41683630-65d0-4693-9b95-28899839b191"
      },
      "source": [
        "# 测试用训练数据训练后的网络\n",
        "score = 0\n",
        "items = 0\n",
        "\n",
        "for label, image_data_tensor , target_tensor in mnist_test_dataset:\n",
        "  answer = C.forward(image_data_tensor).detach().numpy()\n",
        "  if (answer.argmax() == label): #answer.argmax()  输出张量answer中最大值的索引 \n",
        "    score  += 1\n",
        "    pass\n",
        "  items +=1\n",
        "  pass\n",
        "print(score,items,score/items)"
      ],
      "execution_count": 30,
      "outputs": [
        {
          "output_type": "stream",
          "name": "stdout",
          "text": [
            "9744 10000 0.9744\n"
          ]
        }
      ]
    },
    {
      "cell_type": "code",
      "metadata": {
        "id": "tPpVC_h1vjTB"
      },
      "source": [
        ""
      ],
      "execution_count": null,
      "outputs": []
    }
  ]
}